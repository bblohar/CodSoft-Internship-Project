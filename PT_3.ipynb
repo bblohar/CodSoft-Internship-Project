{
  "nbformat": 4,
  "nbformat_minor": 0,
  "metadata": {
    "colab": {
      "provenance": [],
      "authorship_tag": "ABX9TyOjgFMXzpKJjeZmBKU6LCp0",
      "include_colab_link": true
    },
    "kernelspec": {
      "name": "python3",
      "display_name": "Python 3"
    },
    "language_info": {
      "name": "python"
    }
  },
  "cells": [
    {
      "cell_type": "markdown",
      "metadata": {
        "id": "view-in-github",
        "colab_type": "text"
      },
      "source": [
        "<a href=\"https://colab.research.google.com/github/bblohar/CodSoft-Internship-Project/blob/main/PT_3.ipynb\" target=\"_parent\"><img src=\"https://colab.research.google.com/assets/colab-badge.svg\" alt=\"Open In Colab\"/></a>"
      ]
    },
    {
      "cell_type": "code",
      "execution_count": 1,
      "metadata": {
        "colab": {
          "base_uri": "https://localhost:8080/"
        },
        "id": "jUlNC3R9Zn6S",
        "outputId": "d11637c8-7d43-4b80-8f75-53864a9f8823"
      },
      "outputs": [
        {
          "output_type": "stream",
          "name": "stdout",
          "text": [
            "hello\n"
          ]
        }
      ],
      "source": [
        "print(\"hello\")"
      ]
    },
    {
      "cell_type": "markdown",
      "source": [
        "application of python\n",
        "-\n",
        "\n",
        "*   recomandation system\n",
        "*   use a language tu buld an AI application\n",
        "\n"
      ],
      "metadata": {
        "id": "xOA68l1EbLJD"
      }
    },
    {
      "cell_type": "code",
      "source": [
        "b=5\n",
        "a=5\n",
        "c=(id(a))\n",
        "d=(id(b))\n",
        "if (c==d):\n",
        "  print(\"both id are same\")\n",
        "else:\n",
        "  print(\"false\")"
      ],
      "metadata": {
        "colab": {
          "base_uri": "https://localhost:8080/"
        },
        "id": "fZStMxdnZrY2",
        "outputId": "c1043305-d106-4c06-c397-d0d17262eaa2"
      },
      "execution_count": 8,
      "outputs": [
        {
          "output_type": "stream",
          "name": "stdout",
          "text": [
            "both id are same\n"
          ]
        }
      ]
    },
    {
      "cell_type": "code",
      "source": [
        "lst=[5,1,9,8,7,13,15]\n",
        "\n",
        "d=lst[4:6]\n",
        "print(sum(d))"
      ],
      "metadata": {
        "colab": {
          "base_uri": "https://localhost:8080/"
        },
        "id": "Ugu4yaY5cz4n",
        "outputId": "f15ccde4-71f2-4796-9fab-9e3d0e474165"
      },
      "execution_count": 23,
      "outputs": [
        {
          "output_type": "stream",
          "name": "stdout",
          "text": [
            "20\n"
          ]
        }
      ]
    },
    {
      "cell_type": "code",
      "source": [
        "lst[0:7:2]"
      ],
      "metadata": {
        "colab": {
          "base_uri": "https://localhost:8080/"
        },
        "id": "V435ycM8fLuX",
        "outputId": "6cc430ae-5894-4ffa-c03b-4c3e6d7590ff"
      },
      "execution_count": 24,
      "outputs": [
        {
          "output_type": "execute_result",
          "data": {
            "text/plain": [
              "[5, 9, 7, 15]"
            ]
          },
          "metadata": {},
          "execution_count": 24
        }
      ]
    },
    {
      "cell_type": "code",
      "source": [
        "lst[1:6:2]"
      ],
      "metadata": {
        "colab": {
          "base_uri": "https://localhost:8080/"
        },
        "id": "xz0tPZOIfiNO",
        "outputId": "3ecba932-0efe-4b8e-bedd-bb13c6e86de0"
      },
      "execution_count": 30,
      "outputs": [
        {
          "output_type": "execute_result",
          "data": {
            "text/plain": [
              "[1, 8, 13]"
            ]
          },
          "metadata": {},
          "execution_count": 30
        }
      ]
    },
    {
      "cell_type": "code",
      "source": [
        "e=[\"ab\",\"aa\",\"bb\",\"cc\"]\n",
        "f=e[0:3:1]\n",
        "print(f)"
      ],
      "metadata": {
        "colab": {
          "base_uri": "https://localhost:8080/"
        },
        "id": "kFqLpAVggHSn",
        "outputId": "158acb04-7515-4a47-8c36-02e9c2914b25"
      },
      "execution_count": 41,
      "outputs": [
        {
          "output_type": "stream",
          "name": "stdout",
          "text": [
            "['ab', 'aa', 'bb']\n"
          ]
        }
      ]
    },
    {
      "cell_type": "markdown",
      "source": [
        "input :- abaabbcc\n",
        "\n",
        "---\n",
        "\n",
        "output :-  babbaacc\n"
      ],
      "metadata": {
        "id": "jb_NrWvXjHnl"
      }
    },
    {
      "cell_type": "code",
      "source": [
        "def transfrom_string (input_str):\n",
        "  transformed_string = \"\"\n",
        "  for char in input_str:\n",
        "    if char=='a':\n",
        "      transformed_string+='b'\n",
        "    elif char=='b':\n",
        "      transformed_string+='a'\n",
        "    else:\n",
        "      transformed_string+=char\n",
        "  return transformed_string\n",
        "input_str=\"abaabbcc\"\n",
        "transformed_string=transfrom_string(input_str)\n",
        "print(transformed_string)"
      ],
      "metadata": {
        "colab": {
          "base_uri": "https://localhost:8080/"
        },
        "id": "Xdd8qE87g4M8",
        "outputId": "97d83c05-ebaf-416a-c22d-1f4bcf6c0a79"
      },
      "execution_count": 49,
      "outputs": [
        {
          "output_type": "stream",
          "name": "stdout",
          "text": [
            "babbaacc\n"
          ]
        }
      ]
    },
    {
      "cell_type": "code",
      "source": [
        "def return_index(input_string1,input_string2):\n",
        "  return str(input_string1.find(input_string2))\n",
        "input_string1=\"Hello, World!\"\n",
        "input_string2=\"World\"\n"
      ],
      "metadata": {
        "id": "ognbFr52jFla"
      },
      "execution_count": 47,
      "outputs": []
    },
    {
      "cell_type": "code",
      "source": [
        "print(return_index(input_string1,input_string2))"
      ],
      "metadata": {
        "colab": {
          "base_uri": "https://localhost:8080/"
        },
        "id": "juAyWwIdln8j",
        "outputId": "e799f8ca-d85d-43cb-ac83-bbaa5fb9970f"
      },
      "execution_count": 48,
      "outputs": [
        {
          "output_type": "stream",
          "name": "stdout",
          "text": [
            "7\n"
          ]
        }
      ]
    },
    {
      "cell_type": "code",
      "source": [
        "def asus(input_string1,input_string2):\n",
        "  len1,len2=len(input_string1),len(input_string2)\n",
        "  for i in range(len1-len2+1):\n",
        "    if input_string1.startswith(input_string2,i):\n",
        "      return str(i)\n",
        "  return -1\n",
        "input_string1=\"Hello, World!\"\n",
        "input_string2=\"World\"\n",
        "print(asus(input_string1,input_string2))"
      ],
      "metadata": {
        "colab": {
          "base_uri": "https://localhost:8080/"
        },
        "id": "IwRZsHM6mYgU",
        "outputId": "e27997ae-2dd9-433f-86bd-a9e308100ad4"
      },
      "execution_count": 52,
      "outputs": [
        {
          "output_type": "stream",
          "name": "stdout",
          "text": [
            "7\n"
          ]
        }
      ]
    },
    {
      "cell_type": "code",
      "source": [
        "def check_password(password):\n",
        "  if len(password)<4:\n",
        "    return 0\n",
        "if password[0].isdigit():\n",
        "    return 0\n",
        "has_digit=False\n",
        "has_upper=False\n",
        "for char in password:\n",
        "    if char==' ' or char =='/':\n",
        "        return 0\n",
        "    if char.isdigit():\n",
        "        has_digit=True\n",
        "    if char.isupper():\n",
        "        has_upper = True\n",
        "return 1 if has_digit and has_upper else 0\n",
        "\n"
      ],
      "metadata": {
        "colab": {
          "base_uri": "https://localhost:8080/",
          "height": 110
        },
        "id": "6wW2U-3rpehO",
        "outputId": "d832f4cd-1d9b-4c2c-e5fa-12c3aada7c7b"
      },
      "execution_count": 64,
      "outputs": [
        {
          "output_type": "error",
          "ename": "SyntaxError",
          "evalue": "invalid syntax (<ipython-input-64-f95739a33e61>, line 4)",
          "traceback": [
            "\u001b[0;36m  File \u001b[0;32m\"<ipython-input-64-f95739a33e61>\"\u001b[0;36m, line \u001b[0;32m4\u001b[0m\n\u001b[0;31m    elif (char.isdigit() for char in password):\u001b[0m\n\u001b[0m    ^\u001b[0m\n\u001b[0;31mSyntaxError\u001b[0m\u001b[0;31m:\u001b[0m invalid syntax\n"
          ]
        }
      ]
    },
    {
      "cell_type": "code",
      "source": [
        "Y=[23,45,82,27,66,12,78,13,71,86]\n",
        "d=max(Y)\n",
        "print(d)"
      ],
      "metadata": {
        "colab": {
          "base_uri": "https://localhost:8080/"
        },
        "id": "Kw4L55IiqEQI",
        "outputId": "4dcdea54-163f-4977-bbf6-77bc8fcbf868"
      },
      "execution_count": 66,
      "outputs": [
        {
          "output_type": "stream",
          "name": "stdout",
          "text": [
            "86\n"
          ]
        }
      ]
    },
    {
      "cell_type": "code",
      "source": [
        "def maxInArray(arr):\n",
        "    max_value = arr[0]\n",
        "    index=[0]\n",
        "    for num in arr:\n",
        "        if num > max_value:\n",
        "            max_value = num\n",
        "    return max_value\n",
        "arr=[23,45,82,27,66,12,78,13,71,86]\n",
        "print(maxInArray(arr))"
      ],
      "metadata": {
        "colab": {
          "base_uri": "https://localhost:8080/"
        },
        "id": "An8-Reg-uonp",
        "outputId": "56bb50c0-7f75-49a6-fc9f-1ac09334e16a"
      },
      "execution_count": 84,
      "outputs": [
        {
          "output_type": "stream",
          "name": "stdout",
          "text": [
            "86\n"
          ]
        }
      ]
    },
    {
      "cell_type": "code",
      "source": [
        "n=int(input(\"enter the number\"))\n",
        "m=int(input(\"enter the number\"))\n",
        "lst1=[]\n",
        "lst2=[]\n",
        "for i in range (1,m+1):\n",
        "  if i%n==0:\n",
        "    lst1.append(i)\n",
        "  else :\n",
        "    lst2.append(i)\n",
        "\n",
        "s1 = sum(lst1)\n",
        "s2 = sum(lst2)\n",
        "print(s1-s2)"
      ],
      "metadata": {
        "colab": {
          "base_uri": "https://localhost:8080/",
          "height": 256
        },
        "id": "oDBGfgb6vdYr",
        "outputId": "e8d882b2-a474-4f9a-a161-be70354023e0"
      },
      "execution_count": 101,
      "outputs": [
        {
          "name": "stdout",
          "output_type": "stream",
          "text": [
            "enter the number4\n",
            "enter the number20\n"
          ]
        },
        {
          "output_type": "error",
          "ename": "TypeError",
          "evalue": "'int' object is not callable",
          "traceback": [
            "\u001b[0;31m---------------------------------------------------------------------------\u001b[0m",
            "\u001b[0;31mTypeError\u001b[0m                                 Traceback (most recent call last)",
            "\u001b[0;32m<ipython-input-101-1ac87cef459e>\u001b[0m in \u001b[0;36m<cell line: 11>\u001b[0;34m()\u001b[0m\n\u001b[1;32m      9\u001b[0m     \u001b[0mlst2\u001b[0m\u001b[0;34m.\u001b[0m\u001b[0mappend\u001b[0m\u001b[0;34m(\u001b[0m\u001b[0mi\u001b[0m\u001b[0;34m)\u001b[0m\u001b[0;34m\u001b[0m\u001b[0;34m\u001b[0m\u001b[0m\n\u001b[1;32m     10\u001b[0m \u001b[0;34m\u001b[0m\u001b[0m\n\u001b[0;32m---> 11\u001b[0;31m \u001b[0ms1\u001b[0m \u001b[0;34m=\u001b[0m \u001b[0msum\u001b[0m\u001b[0;34m(\u001b[0m\u001b[0mlst1\u001b[0m\u001b[0;34m)\u001b[0m\u001b[0;34m\u001b[0m\u001b[0;34m\u001b[0m\u001b[0m\n\u001b[0m\u001b[1;32m     12\u001b[0m \u001b[0ms2\u001b[0m \u001b[0;34m=\u001b[0m \u001b[0msum\u001b[0m\u001b[0;34m(\u001b[0m\u001b[0mlst2\u001b[0m\u001b[0;34m)\u001b[0m\u001b[0;34m\u001b[0m\u001b[0;34m\u001b[0m\u001b[0m\n\u001b[1;32m     13\u001b[0m \u001b[0mprint\u001b[0m\u001b[0;34m(\u001b[0m\u001b[0ms1\u001b[0m\u001b[0;34m-\u001b[0m\u001b[0ms2\u001b[0m\u001b[0;34m)\u001b[0m\u001b[0;34m\u001b[0m\u001b[0;34m\u001b[0m\u001b[0m\n",
            "\u001b[0;31mTypeError\u001b[0m: 'int' object is not callable"
          ]
        }
      ]
    },
    {
      "cell_type": "code",
      "source": [
        "def findcound(n,arr,num,diff):\n",
        "  count=0\n",
        "  for i in range(n):\n",
        "    for j in range(i+1,n):\n",
        "      if abs(arr[i]-arr[j])==diff:\n",
        "        count+=1\n",
        "      if count:\n",
        "        return count\n",
        "  return 0\n",
        "n=int(input())\n",
        "arr=list(map(int,input().split()))\n",
        "num=int(input())\n",
        "diff=int(input())\n",
        "print(findcount(n,arr,num,diff))"
      ],
      "metadata": {
        "colab": {
          "base_uri": "https://localhost:8080/",
          "height": 256
        },
        "id": "Nk_VdJ1B3fsA",
        "outputId": "9135b38d-3222-4b26-d968-c72f38067044"
      },
      "execution_count": 103,
      "outputs": [
        {
          "name": "stdout",
          "output_type": "stream",
          "text": [
            "13\n",
            "12,3,14,56,77,13\n"
          ]
        },
        {
          "output_type": "error",
          "ename": "ValueError",
          "evalue": "invalid literal for int() with base 10: '12,3,14,56,77,13'",
          "traceback": [
            "\u001b[0;31m---------------------------------------------------------------------------\u001b[0m",
            "\u001b[0;31mValueError\u001b[0m                                Traceback (most recent call last)",
            "\u001b[0;32m<ipython-input-103-cf545b054c9b>\u001b[0m in \u001b[0;36m<cell line: 11>\u001b[0;34m()\u001b[0m\n\u001b[1;32m      9\u001b[0m   \u001b[0;32mreturn\u001b[0m \u001b[0;36m0\u001b[0m\u001b[0;34m\u001b[0m\u001b[0;34m\u001b[0m\u001b[0m\n\u001b[1;32m     10\u001b[0m \u001b[0mn\u001b[0m\u001b[0;34m=\u001b[0m\u001b[0mint\u001b[0m\u001b[0;34m(\u001b[0m\u001b[0minput\u001b[0m\u001b[0;34m(\u001b[0m\u001b[0;34m)\u001b[0m\u001b[0;34m)\u001b[0m\u001b[0;34m\u001b[0m\u001b[0;34m\u001b[0m\u001b[0m\n\u001b[0;32m---> 11\u001b[0;31m \u001b[0marr\u001b[0m\u001b[0;34m=\u001b[0m\u001b[0mlist\u001b[0m\u001b[0;34m(\u001b[0m\u001b[0mmap\u001b[0m\u001b[0;34m(\u001b[0m\u001b[0mint\u001b[0m\u001b[0;34m,\u001b[0m\u001b[0minput\u001b[0m\u001b[0;34m(\u001b[0m\u001b[0;34m)\u001b[0m\u001b[0;34m.\u001b[0m\u001b[0msplit\u001b[0m\u001b[0;34m(\u001b[0m\u001b[0;34m)\u001b[0m\u001b[0;34m)\u001b[0m\u001b[0;34m)\u001b[0m\u001b[0;34m\u001b[0m\u001b[0;34m\u001b[0m\u001b[0m\n\u001b[0m\u001b[1;32m     12\u001b[0m \u001b[0mnum\u001b[0m\u001b[0;34m=\u001b[0m\u001b[0mint\u001b[0m\u001b[0;34m(\u001b[0m\u001b[0minput\u001b[0m\u001b[0;34m(\u001b[0m\u001b[0;34m)\u001b[0m\u001b[0;34m)\u001b[0m\u001b[0;34m\u001b[0m\u001b[0;34m\u001b[0m\u001b[0m\n\u001b[1;32m     13\u001b[0m \u001b[0mdiff\u001b[0m\u001b[0;34m=\u001b[0m\u001b[0mint\u001b[0m\u001b[0;34m(\u001b[0m\u001b[0minput\u001b[0m\u001b[0;34m(\u001b[0m\u001b[0;34m)\u001b[0m\u001b[0;34m)\u001b[0m\u001b[0;34m\u001b[0m\u001b[0;34m\u001b[0m\u001b[0m\n",
            "\u001b[0;31mValueError\u001b[0m: invalid literal for int() with base 10: '12,3,14,56,77,13'"
          ]
        }
      ]
    },
    {
      "cell_type": "markdown",
      "source": [
        "##string function\n"
      ],
      "metadata": {
        "id": "ZxXpfVtCQfGl"
      }
    },
    {
      "cell_type": "code",
      "source": [
        "s=\"This Is String\"\n",
        "print(s.upper())"
      ],
      "metadata": {
        "colab": {
          "base_uri": "https://localhost:8080/"
        },
        "id": "NHUYpaYy83dU",
        "outputId": "1b4ea24a-7672-470a-eeae-f17f0fda999b"
      },
      "execution_count": 1,
      "outputs": [
        {
          "output_type": "stream",
          "name": "stdout",
          "text": [
            "THIS IS STRING\n"
          ]
        }
      ]
    },
    {
      "cell_type": "code",
      "source": [
        "print(s.title())"
      ],
      "metadata": {
        "colab": {
          "base_uri": "https://localhost:8080/"
        },
        "id": "r0JIQ0c_Qrh4",
        "outputId": "4ba094a5-f56e-45f6-e9a2-b5b3a3277a05"
      },
      "execution_count": 2,
      "outputs": [
        {
          "output_type": "stream",
          "name": "stdout",
          "text": [
            "This Is String\n"
          ]
        }
      ]
    },
    {
      "cell_type": "code",
      "source": [
        "print(\"After replace ('delhi','mumbai')\",s.replace('delhi','mumbai'))"
      ],
      "metadata": {
        "colab": {
          "base_uri": "https://localhost:8080/"
        },
        "id": "hjWP5exzQx46",
        "outputId": "91976c55-d202-4c63-97cb-93eef0eaec9f"
      },
      "execution_count": 3,
      "outputs": [
        {
          "output_type": "stream",
          "name": "stdout",
          "text": [
            "After replace ('delhi','mumbai') This Is String\n"
          ]
        }
      ]
    },
    {
      "cell_type": "code",
      "source": [
        "print(s.count(\"is\"))"
      ],
      "metadata": {
        "colab": {
          "base_uri": "https://localhost:8080/"
        },
        "id": "JIrf5Z5wRB7g",
        "outputId": "48019e72-160f-4993-fb88-74ee39d1dd5c"
      },
      "execution_count": 4,
      "outputs": [
        {
          "output_type": "stream",
          "name": "stdout",
          "text": [
            "1\n"
          ]
        }
      ]
    },
    {
      "cell_type": "code",
      "source": [
        "print(s.startswith(\"Hello\"))"
      ],
      "metadata": {
        "colab": {
          "base_uri": "https://localhost:8080/"
        },
        "id": "I-h2stI8RPjp",
        "outputId": "b2bb36f5-0a0e-4925-bac8-9e3089a1310f"
      },
      "execution_count": 5,
      "outputs": [
        {
          "output_type": "stream",
          "name": "stdout",
          "text": [
            "False\n"
          ]
        }
      ]
    },
    {
      "cell_type": "code",
      "source": [
        "print(s.endswith(\"test\"))"
      ],
      "metadata": {
        "colab": {
          "base_uri": "https://localhost:8080/"
        },
        "id": "4ZEscyO7RVFZ",
        "outputId": "94b39aa0-28ff-4be9-dc27-881635e61867"
      },
      "execution_count": 6,
      "outputs": [
        {
          "output_type": "stream",
          "name": "stdout",
          "text": [
            "False\n"
          ]
        }
      ]
    },
    {
      "cell_type": "code",
      "source": [
        "print(s.split())"
      ],
      "metadata": {
        "colab": {
          "base_uri": "https://localhost:8080/"
        },
        "id": "ejBLQHF6R0sa",
        "outputId": "6d8e7593-675e-484b-e450-dfbcbc115c06"
      },
      "execution_count": 7,
      "outputs": [
        {
          "output_type": "stream",
          "name": "stdout",
          "text": [
            "['This', 'Is', 'String']\n"
          ]
        }
      ]
    },
    {
      "cell_type": "code",
      "source": [
        "num=1,2,3,4\n",
        "s=str(num)\n",
        "s.split()"
      ],
      "metadata": {
        "colab": {
          "base_uri": "https://localhost:8080/"
        },
        "id": "XG2P6a1hSLGe",
        "outputId": "94ab74f2-2f93-43da-bb4a-8566bc091279"
      },
      "execution_count": 8,
      "outputs": [
        {
          "output_type": "execute_result",
          "data": {
            "text/plain": [
              "['(1,', '2,', '3,', '4)']"
            ]
          },
          "metadata": {},
          "execution_count": 8
        }
      ]
    },
    {
      "cell_type": "code",
      "source": [
        "s=sum(lst)\n",
        "print(s)"
      ],
      "metadata": {
        "colab": {
          "base_uri": "https://localhost:8080/"
        },
        "id": "8JRJW6grSyA7",
        "outputId": "76a387a3-dcaa-43b6-b149-8b5b76451b58"
      },
      "execution_count": 13,
      "outputs": [
        {
          "output_type": "stream",
          "name": "stdout",
          "text": [
            "10\n"
          ]
        }
      ]
    },
    {
      "cell_type": "code",
      "source": [
        "ip=list(map(int,input().split()))\n",
        "ip\n",
        "print(sum(ip))"
      ],
      "metadata": {
        "colab": {
          "base_uri": "https://localhost:8080/"
        },
        "id": "yp5XPigbS962",
        "outputId": "04f6bdec-abe0-4a91-d2ad-a8a5e56d3dd0"
      },
      "execution_count": 18,
      "outputs": [
        {
          "output_type": "stream",
          "name": "stdout",
          "text": [
            "1 2 3 4 \n",
            "10\n"
          ]
        }
      ]
    },
    {
      "cell_type": "code",
      "source": [],
      "metadata": {
        "id": "tuyGTrxtUi4H"
      },
      "execution_count": null,
      "outputs": []
    }
  ]
}